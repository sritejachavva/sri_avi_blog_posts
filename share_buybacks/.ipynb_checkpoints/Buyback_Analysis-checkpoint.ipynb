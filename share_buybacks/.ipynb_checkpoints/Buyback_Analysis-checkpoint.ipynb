{
 "cells": [
  {
   "cell_type": "code",
   "execution_count": null,
   "id": "3117f55b",
   "metadata": {},
   "outputs": [],
   "source": [
    "import numpy as np\n",
    "import pandas as pd\n",
    "import os\n",
    "current_directory = os.getcwd()\n",
    "print(current_directory) \n",
    "\n"
   ]
  },
  {
   "cell_type": "code",
   "execution_count": null,
   "id": "9e00a2b9",
   "metadata": {},
   "outputs": [],
   "source": [
    "# This Analysis will feature a 2 part analysis. \n",
    "\n",
    "## Part 1 -- do buyback announcements directly influence share prices?\n",
    "#### Things to Look at\n",
    "- 5, 30, 90 day share price avg pre and post annoucement\n",
    "- \n",
    "- sdfkj"
   ]
  },
  {
   "cell_type": "code",
   "execution_count": null,
   "id": "869ed59e",
   "metadata": {},
   "outputs": [],
   "source": [
    "## Part 1"
   ]
  },
  {
   "cell_type": "code",
   "execution_count": null,
   "id": "5b1fb67c",
   "metadata": {},
   "outputs": [],
   "source": [
    "### Lets take a look at how 2023 and 2024 sharebuyback announcements immediately impacted share price by doing a pre vs post analysis"
   ]
  },
  {
   "cell_type": "code",
   "execution_count": null,
   "id": "b34673a4",
   "metadata": {},
   "outputs": [],
   "source": [
    "buybacks = pd.read_csv('buyback_announcements_2023_2024.csv')\n",
    "buybacks.head(20)"
   ]
  }
 ],
 "metadata": {
  "kernelspec": {
   "display_name": "Python 3 (ipykernel)",
   "language": "python",
   "name": "python3"
  },
  "language_info": {
   "codemirror_mode": {
    "name": "ipython",
    "version": 3
   },
   "file_extension": ".py",
   "mimetype": "text/x-python",
   "name": "python",
   "nbconvert_exporter": "python",
   "pygments_lexer": "ipython3",
   "version": "3.11.5"
  }
 },
 "nbformat": 4,
 "nbformat_minor": 5
}
